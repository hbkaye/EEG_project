{
  "nbformat": 4,
  "nbformat_minor": 0,
  "metadata": {
    "colab": {
      "name": "csv_data_to_EMD.ipynb",
      "provenance": [],
      "collapsed_sections": [],
      "authorship_tag": "ABX9TyMIJMNHb0XMt6VZ11rhwtS9",
      "include_colab_link": true
    },
    "kernelspec": {
      "name": "python3",
      "display_name": "Python 3"
    }
  },
  "cells": [
    {
      "cell_type": "markdown",
      "metadata": {
        "id": "view-in-github",
        "colab_type": "text"
      },
      "source": [
        "<a href=\"https://colab.research.google.com/github/hbkaye/EEG_project/blob/master/csv_data_to_EMD.ipynb\" target=\"_parent\"><img src=\"https://colab.research.google.com/assets/colab-badge.svg\" alt=\"Open In Colab\"/></a>"
      ]
    },
    {
      "cell_type": "code",
      "metadata": {
        "id": "1qnq6O4_C5c_",
        "colab_type": "code",
        "outputId": "94de0257-dc28-402f-8ead-448894386d31",
        "colab": {
          "base_uri": "https://localhost:8080/",
          "height": 1000
        }
      },
      "source": [
        "# Importing essential modules\n",
        "\n",
        "!pip install pyedflib EMD-signal\n",
        "import numpy as np\n",
        "import pyedflib\n",
        "import os\n",
        "import sys\n",
        "from PyEMD import EMD\n",
        "import numpy  as np\n",
        "from matplotlib import pyplot as plt\n",
        "from matplotlib.pyplot import figure\n",
        "from scipy.signal import hilbert\n",
        "from matplotlib.pyplot import plot\n",
        "import pandas as pd\n",
        "\n"
      ],
      "execution_count": 0,
      "outputs": [
        {
          "output_type": "stream",
          "text": [
            "Collecting pyedflib\n",
            "\u001b[?25l  Downloading https://files.pythonhosted.org/packages/bc/8b/47ce5a889e1f6917390ba2328b494424d018cf9c263ab59e14ac851e194f/pyEDFlib-0.1.15.tar.gz (1.1MB)\n",
            "\u001b[K     |████████████████████████████████| 1.1MB 3.5MB/s \n",
            "\u001b[?25hCollecting EMD-signal\n",
            "  Downloading https://files.pythonhosted.org/packages/86/eb/b979a2e9f0b6eed816913731defaaaf5e9e26985dce9d33570dc08e94db9/EMD_signal-0.2.7-py2.py3-none-any.whl\n",
            "Requirement already satisfied: numpy>=1.9.1 in /usr/local/lib/python3.6/dist-packages (from pyedflib) (1.17.5)\n",
            "Requirement already satisfied: scipy>=0.19 in /usr/local/lib/python3.6/dist-packages (from EMD-signal) (1.4.1)\n",
            "Collecting pathos>=0.2.1\n",
            "\u001b[?25l  Downloading https://files.pythonhosted.org/packages/c6/a2/cd59f73d5ede4f122687bf8f63de5d671c9561e493ca699241f05b038278/pathos-0.2.5.tar.gz (162kB)\n",
            "\u001b[K     |████████████████████████████████| 163kB 47.8MB/s \n",
            "\u001b[?25hCollecting numpydoc\n",
            "  Downloading https://files.pythonhosted.org/packages/b0/70/4d8c3f9f6783a57ac9cc7a076e5610c0cc4a96af543cafc9247ac307fbfe/numpydoc-0.9.2.tar.gz\n",
            "Collecting ppft>=1.6.6.1\n",
            "\u001b[?25l  Downloading https://files.pythonhosted.org/packages/5b/16/9e83c2aa45949ee9cd6e8731275acdaeb6c624b8728d6598196c65074f3e/ppft-1.6.6.1.tar.gz (63kB)\n",
            "\u001b[K     |████████████████████████████████| 71kB 9.1MB/s \n",
            "\u001b[?25hRequirement already satisfied: dill>=0.3.1 in /usr/local/lib/python3.6/dist-packages (from pathos>=0.2.1->EMD-signal) (0.3.1.1)\n",
            "Collecting pox>=0.2.7\n",
            "\u001b[?25l  Downloading https://files.pythonhosted.org/packages/6c/9a/957818485aa165ce93b646aeb20181215bb415c9dca8345bdbe23b08ae67/pox-0.2.7.tar.gz (110kB)\n",
            "\u001b[K     |████████████████████████████████| 112kB 46.5MB/s \n",
            "\u001b[?25hRequirement already satisfied: multiprocess>=0.70.9 in /usr/local/lib/python3.6/dist-packages (from pathos>=0.2.1->EMD-signal) (0.70.9)\n",
            "Requirement already satisfied: sphinx>=1.6.5 in /usr/local/lib/python3.6/dist-packages (from numpydoc->EMD-signal) (1.8.5)\n",
            "Requirement already satisfied: Jinja2>=2.3 in /usr/local/lib/python3.6/dist-packages (from numpydoc->EMD-signal) (2.10.3)\n",
            "Requirement already satisfied: six>=1.7.3 in /usr/local/lib/python3.6/dist-packages (from ppft>=1.6.6.1->pathos>=0.2.1->EMD-signal) (1.12.0)\n",
            "Requirement already satisfied: snowballstemmer>=1.1 in /usr/local/lib/python3.6/dist-packages (from sphinx>=1.6.5->numpydoc->EMD-signal) (2.0.0)\n",
            "Requirement already satisfied: babel!=2.0,>=1.3 in /usr/local/lib/python3.6/dist-packages (from sphinx>=1.6.5->numpydoc->EMD-signal) (2.8.0)\n",
            "Requirement already satisfied: requests>=2.0.0 in /usr/local/lib/python3.6/dist-packages (from sphinx>=1.6.5->numpydoc->EMD-signal) (2.21.0)\n",
            "Requirement already satisfied: imagesize in /usr/local/lib/python3.6/dist-packages (from sphinx>=1.6.5->numpydoc->EMD-signal) (1.2.0)\n",
            "Requirement already satisfied: packaging in /usr/local/lib/python3.6/dist-packages (from sphinx>=1.6.5->numpydoc->EMD-signal) (20.0)\n",
            "Requirement already satisfied: Pygments>=2.0 in /usr/local/lib/python3.6/dist-packages (from sphinx>=1.6.5->numpydoc->EMD-signal) (2.1.3)\n",
            "Requirement already satisfied: alabaster<0.8,>=0.7 in /usr/local/lib/python3.6/dist-packages (from sphinx>=1.6.5->numpydoc->EMD-signal) (0.7.12)\n",
            "Requirement already satisfied: setuptools in /usr/local/lib/python3.6/dist-packages (from sphinx>=1.6.5->numpydoc->EMD-signal) (42.0.2)\n",
            "Requirement already satisfied: docutils>=0.11 in /usr/local/lib/python3.6/dist-packages (from sphinx>=1.6.5->numpydoc->EMD-signal) (0.15.2)\n",
            "Requirement already satisfied: sphinxcontrib-websupport in /usr/local/lib/python3.6/dist-packages (from sphinx>=1.6.5->numpydoc->EMD-signal) (1.1.2)\n",
            "Requirement already satisfied: MarkupSafe>=0.23 in /usr/local/lib/python3.6/dist-packages (from Jinja2>=2.3->numpydoc->EMD-signal) (1.1.1)\n",
            "Requirement already satisfied: pytz>=2015.7 in /usr/local/lib/python3.6/dist-packages (from babel!=2.0,>=1.3->sphinx>=1.6.5->numpydoc->EMD-signal) (2018.9)\n",
            "Requirement already satisfied: urllib3<1.25,>=1.21.1 in /usr/local/lib/python3.6/dist-packages (from requests>=2.0.0->sphinx>=1.6.5->numpydoc->EMD-signal) (1.24.3)\n",
            "Requirement already satisfied: chardet<3.1.0,>=3.0.2 in /usr/local/lib/python3.6/dist-packages (from requests>=2.0.0->sphinx>=1.6.5->numpydoc->EMD-signal) (3.0.4)\n",
            "Requirement already satisfied: idna<2.9,>=2.5 in /usr/local/lib/python3.6/dist-packages (from requests>=2.0.0->sphinx>=1.6.5->numpydoc->EMD-signal) (2.8)\n",
            "Requirement already satisfied: certifi>=2017.4.17 in /usr/local/lib/python3.6/dist-packages (from requests>=2.0.0->sphinx>=1.6.5->numpydoc->EMD-signal) (2019.11.28)\n",
            "Requirement already satisfied: pyparsing>=2.0.2 in /usr/local/lib/python3.6/dist-packages (from packaging->sphinx>=1.6.5->numpydoc->EMD-signal) (2.4.6)\n",
            "Building wheels for collected packages: pyedflib, pathos, numpydoc, ppft, pox\n",
            "  Building wheel for pyedflib (setup.py) ... \u001b[?25l\u001b[?25hdone\n",
            "  Created wheel for pyedflib: filename=pyEDFlib-0.1.15-cp36-cp36m-linux_x86_64.whl size=920116 sha256=f55cad215b573b76095e99859d12f1fca583b039a9a0e439c0fa13bc663a0688\n",
            "  Stored in directory: /root/.cache/pip/wheels/57/e3/8e/ce6236e9ada08b8ff91ef922c7418dbd66f1182dfbb22f8579\n",
            "  Building wheel for pathos (setup.py) ... \u001b[?25l\u001b[?25hdone\n",
            "  Created wheel for pathos: filename=pathos-0.2.5-cp36-none-any.whl size=77575 sha256=ee1e6a91154d8a99ead6b6a4c209c58a4f05517e5a66fa39df16c9751f5083ca\n",
            "  Stored in directory: /root/.cache/pip/wheels/61/6d/83/90b0c3d2c271da2c4850731e894798c98f8dbedbac74e8eff0\n",
            "  Building wheel for numpydoc (setup.py) ... \u001b[?25l\u001b[?25hdone\n",
            "  Created wheel for numpydoc: filename=numpydoc-0.9.2-cp36-none-any.whl size=31894 sha256=3d810f5dc42eecde6dc401877680a02e1a1f83fee4deb3f9d669b74536725d91\n",
            "  Stored in directory: /root/.cache/pip/wheels/96/f3/52/25c8e1f40637661d27feebc61dae16b84c7cdd93b8bc3d7486\n",
            "  Building wheel for ppft (setup.py) ... \u001b[?25l\u001b[?25hdone\n",
            "  Created wheel for ppft: filename=ppft-1.6.6.1-cp36-none-any.whl size=64710 sha256=272acdbdff74a4e6ceb3b4d5f02783c60083232777204760ab7d5a20088bb4e9\n",
            "  Stored in directory: /root/.cache/pip/wheels/6a/0c/53/ea8dd63608f75c1e7a64d5c5ce5d1e6d04f15ae8a6fce4c2a0\n",
            "  Building wheel for pox (setup.py) ... \u001b[?25l\u001b[?25hdone\n",
            "  Created wheel for pox: filename=pox-0.2.7-cp36-none-any.whl size=28303 sha256=9b037ec184ab8552ae74d1c8c72ab6db034ba049c4fcf024843ea51815f1dd75\n",
            "  Stored in directory: /root/.cache/pip/wheels/47/10/7b/0e916f6246fe7cf7d3acd25a6d273ecf3f97888cea073a8ac2\n",
            "Successfully built pyedflib pathos numpydoc ppft pox\n",
            "Installing collected packages: pyedflib, ppft, pox, pathos, numpydoc, EMD-signal\n",
            "Successfully installed EMD-signal-0.2.7 numpydoc-0.9.2 pathos-0.2.5 pox-0.2.7 ppft-1.6.6.1 pyedflib-0.1.15\n"
          ],
          "name": "stdout"
        }
      ]
    },
    {
      "cell_type": "code",
      "metadata": {
        "id": "qKlfmulmDBfG",
        "colab_type": "code",
        "outputId": "3e10fb89-9926-4503-ddcc-4fce43bef945",
        "colab": {
          "base_uri": "https://localhost:8080/",
          "height": 957
        }
      },
      "source": [
        "df = pd.read_csv('/today_31.12.19_12.06.22.md.csv')\n",
        "df.columns = df.iloc[0, :]\n",
        "print(df.iloc[1, :])"
      ],
      "execution_count": 0,
      "outputs": [
        {
          "output_type": "stream",
          "text": [
            "0\n",
            "Timestamp                1577774183\n",
            "EEG.Counter                      59\n",
            "EEG.Interpolated                  0\n",
            "EEG.AF3                 4201.153809\n",
            "EEG.F7                  4217.179688\n",
            "EEG.F3                  4198.846191\n",
            "EEG.FC5                 4191.538574\n",
            "EEG.T7                  4191.153809\n",
            "EEG.P7                  4211.025879\n",
            "EEG.O1                  4187.179688\n",
            "EEG.O2                  4195.512695\n",
            "EEG.P8                  4178.846191\n",
            "EEG.T8                  4163.974121\n",
            "EEG.FC6                 4211.410156\n",
            "EEG.F4                  4237.820313\n",
            "EEG.F8                  4227.179688\n",
            "EEG.AF4                 4323.205078\n",
            "EEG.RawCq                         0\n",
            "EEG.Battery                       4\n",
            "MarkerIndex                     NaN\n",
            "MarkerType                      NaN\n",
            "MarkerValueInt                  NaN\n",
            "EEG.MarkerHardware                0\n",
            "CQ.AF3                            4\n",
            "CQ.F7                             4\n",
            "CQ.F3                             4\n",
            "CQ.FC5                            4\n",
            "CQ.T7                             4\n",
            "CQ.P7                             4\n",
            "CQ.O1                             4\n",
            "CQ.O2                             4\n",
            "CQ.P8                             4\n",
            "CQ.T8                             4\n",
            "CQ.FC6                            4\n",
            "CQ.F4                             4\n",
            "CQ.F8                             4\n",
            "CQ.AF4                            4\n",
            "MOT.CounterMems                 NaN\n",
            "MOT.InterpolatedMems            NaN\n",
            "MOT.Q0                          NaN\n",
            "MOT.Q1                          NaN\n",
            "MOT.Q2                          NaN\n",
            "MOT.Q3                          NaN\n",
            "MOT.AccX                        NaN\n",
            "MOT.AccY                        NaN\n",
            "MOT.AccZ                        NaN\n",
            "MOT.MagX                        NaN\n",
            "MOT.MagY                        NaN\n",
            "MOT.MagZ                        NaN\n",
            "Name: 1, dtype: object\n"
          ],
          "name": "stdout"
        },
        {
          "output_type": "stream",
          "text": [
            "/usr/local/lib/python3.6/dist-packages/IPython/core/interactiveshell.py:2718: DtypeWarning: Columns (0,1,2,3,4,5,6,7,8,9,10,11,12,13,14,15,16,17,18,19,20,21,22,23,24,25,26,27,28,29,30,31,32,33,34,35,36,37,38,39,40,41,42,43,44,45,46,47,48) have mixed types. Specify dtype option on import or set low_memory=False.\n",
            "  interactivity=interactivity, compiler=compiler, result=result)\n"
          ],
          "name": "stderr"
        }
      ]
    },
    {
      "cell_type": "code",
      "metadata": {
        "id": "xF18XGrRGVEI",
        "colab_type": "code",
        "outputId": "55e035db-71ed-4302-b747-aaa359a0d53a",
        "colab": {
          "base_uri": "https://localhost:8080/",
          "height": 243
        }
      },
      "source": [
        "ls = list(df)\n",
        "ndf = df.drop([ls[0], ls[2]] + ls[17:], axis=1)\n",
        "new = ndf.iloc[1:29,1:14]\n",
        "new = new.astype(float)\n",
        "numdf = new.to_numpy()\n",
        "cols = numdf.shape[1]\n",
        "numdf"
      ],
      "execution_count": 0,
      "outputs": [
        {
          "output_type": "execute_result",
          "data": {
            "text/plain": [
              "array([[4201.153809, 4217.179688, 4198.846191, ..., 4211.410156,\n",
              "        4237.820313, 4227.179688],\n",
              "       [4204.487305, 4211.153809, 4200.641113, ..., 4210.256348,\n",
              "        4236.538574, 4230.769043],\n",
              "       [4194.871582, 4206.153809, 4198.077148, ..., 4200.384766,\n",
              "        4231.922852, 4224.615234],\n",
              "       ...,\n",
              "       [4210.      , 4210.769043, 4216.025879, ..., 4226.794922,\n",
              "        4212.692383, 4240.512695],\n",
              "       [4221.794922, 4217.94873 , 4213.205078, ..., 4225.384766,\n",
              "        4215.128418, 4243.333496],\n",
              "       [4224.358887, 4215.769043, 4213.589844, ..., 4223.205078,\n",
              "        4224.230957, 4245.641113]])"
            ]
          },
          "metadata": {
            "tags": []
          },
          "execution_count": 4
        }
      ]
    },
    {
      "cell_type": "code",
      "metadata": {
        "id": "BBf3wPMBGl3p",
        "colab_type": "code",
        "colab": {}
      },
      "source": [
        "\n",
        "# Define signal\n",
        "t = np.linspace(0, 1, 29)\n",
        "\n",
        "# Execute EMD on signal\n",
        "IMF = EMD().emd(s,t)\n",
        "N = IMF.shape[0]+1\n",
        "\n",
        "# Setting image parameters\n",
        "figure(num=None, figsize=(20, 16), dpi=80, facecolor='w', edgecolor='k')\n",
        "plt.subplots_adjust(wspace=1, hspace=1)\n",
        "\n",
        "# Plot results\n",
        "plt.subplot(N,1,1)\n",
        "plt.plot(t, s, 'r')\n",
        "plt.title(\"Input signal\")\n",
        "\n",
        "for x in range(0, cols-1):\n",
        "    plt.subplot(cols, 1, x+1)\n",
        "    plt.plot(t, numdf[:,x], 'g')\n",
        "    plt.title(\"IMF \"+str(x+1))\n",
        "\n",
        "\n",
        "plt.show()"
      ],
      "execution_count": 0,
      "outputs": []
    },
    {
      "cell_type": "code",
      "metadata": {
        "id": "GZGlwns8M-H-",
        "colab_type": "code",
        "colab": {}
      },
      "source": [
        ""
      ],
      "execution_count": 0,
      "outputs": []
    }
  ]
}
